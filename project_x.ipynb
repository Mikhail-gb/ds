{
 "cells": [
  {
   "cell_type": "code",
   "execution_count": 793,
   "id": "693ad733",
   "metadata": {},
   "outputs": [],
   "source": [
    "import numpy as np\n",
    "import pandas as pd\n",
    "from sklearn.preprocessing import StandardScaler, MinMaxScaler\n",
    "import xgboost as xgb, lightgbm as lgbm, catboost as catb\n",
    "from sklearn.model_selection import train_test_split, ShuffleSplit, cross_val_score, learning_curve\n",
    "from sklearn.linear_model import LogisticRegression\n",
    "from sklearn.metrics import classification_report, f1_score, precision_score, recall_score\n",
    "import warnings\n",
    "warnings.simplefilter('ignore')"
   ]
  },
  {
   "cell_type": "code",
   "execution_count": 794,
   "id": "74343f85",
   "metadata": {},
   "outputs": [],
   "source": [
    "def get_classification_report(y_train_true, y_train_pred, y_test_true, y_test_pred):\n",
    "    print('TRAIN\\n\\n' + classification_report(y_train_true, y_train_pred))\n",
    "    print('TEST\\n\\n' + classification_report(y_test_true, y_test_pred))\n",
    "    print('CONFUSION MATRIX\\n')\n",
    "    print(pd.crosstab(y_test_true, y_test_pred))"
   ]
  },
  {
   "cell_type": "code",
   "execution_count": 795,
   "id": "30d1b678",
   "metadata": {},
   "outputs": [],
   "source": [
    "def balance_df_by_target(df, target_name):\n",
    "\n",
    "    target_counts = df[target_name].value_counts()\n",
    "\n",
    "    major_class_name = target_counts.argmax()\n",
    "    minor_class_name = target_counts.argmin()\n",
    "\n",
    "    disbalance_coeff = int(target_counts[major_class_name] / target_counts[minor_class_name]) - 1\n",
    "\n",
    "    for i in range(disbalance_coeff):\n",
    "        sample = df[df[target_name] == minor_class_name].sample(target_counts[minor_class_name])\n",
    "        df = df.append(sample, ignore_index=True)\n",
    "\n",
    "    return df.sample(frac=1) "
   ]
  },
  {
   "cell_type": "code",
   "execution_count": 796,
   "id": "727c0675",
   "metadata": {},
   "outputs": [],
   "source": [
    "def convert_category(df, cat_feature_names):\n",
    "    for colname in cat_feature_names:\n",
    "        df[colname] = pd.Categorical(df[colname])\n",
    "        \n",
    "    return df"
   ]
  },
  {
   "cell_type": "code",
   "execution_count": 797,
   "id": "e5e1cfad",
   "metadata": {},
   "outputs": [],
   "source": [
    "def processing_omissions(df, cat_feature_names, num_feature_names):\n",
    "    df_num = df[num_feature_names].fillna(df.mean())\n",
    "    df_cat = df[cat_feature_names].fillna(df.mode().iloc[0])\n",
    "    df = pd.concat([df_num, df_cat], axis=1)\n",
    "    \n",
    "    return df"
   ]
  },
  {
   "cell_type": "code",
   "execution_count": 798,
   "id": "909d94d9",
   "metadata": {},
   "outputs": [],
   "source": [
    "def scaling(df, num_feature_names):\n",
    "    scaler = StandardScaler()\n",
    "    df_norm = df.copy()\n",
    "    df_norm[num_feature_names] = scaler.fit_transform(df_norm[num_feature_names])\n",
    "\n",
    "    df = df_norm.copy()\n",
    "    \n",
    "    return df"
   ]
  },
  {
   "cell_type": "code",
   "execution_count": 799,
   "id": "bd7ed9a5",
   "metadata": {},
   "outputs": [],
   "source": [
    "DATASET_PATH = 'course_project_train.csv'\n",
    "PREP_DATASET_PATH = 'course_project_test.csv'"
   ]
  },
  {
   "cell_type": "code",
   "execution_count": 800,
   "id": "8dd0c92c",
   "metadata": {},
   "outputs": [],
   "source": [
    "df_train_base = pd.read_csv(DATASET_PATH)"
   ]
  },
  {
   "cell_type": "code",
   "execution_count": 801,
   "id": "d5cac6dc",
   "metadata": {},
   "outputs": [],
   "source": [
    "df_valid = pd.read_csv(PREP_DATASET_PATH)"
   ]
  },
  {
   "cell_type": "code",
   "execution_count": 802,
   "id": "ecd9c4e0",
   "metadata": {},
   "outputs": [],
   "source": [
    "NUM_FEATURE_NAMES = ['Annual Income', 'Tax Liens', 'Number of Open Accounts', 'Years of Credit History',\n",
    "                    'Maximum Open Credit', 'Number of Credit Problems', 'Bankruptcies', 'Current Loan Amount',\n",
    "                     'Current Credit Balance', 'Monthly Debt', 'Credit Score', 'Months since last delinquent']\n",
    "CAT_FEATURE_NAMES = ['Home Ownership', 'Years in current job', 'Purpose', 'Term']\n",
    "TARGET_NAME = 'Credit Default'"
   ]
  },
  {
   "cell_type": "code",
   "execution_count": 803,
   "id": "3bbcec3a",
   "metadata": {},
   "outputs": [
    {
     "data": {
      "text/html": [
       "<div>\n",
       "<style scoped>\n",
       "    .dataframe tbody tr th:only-of-type {\n",
       "        vertical-align: middle;\n",
       "    }\n",
       "\n",
       "    .dataframe tbody tr th {\n",
       "        vertical-align: top;\n",
       "    }\n",
       "\n",
       "    .dataframe thead th {\n",
       "        text-align: right;\n",
       "    }\n",
       "</style>\n",
       "<table border=\"1\" class=\"dataframe\">\n",
       "  <thead>\n",
       "    <tr style=\"text-align: right;\">\n",
       "      <th></th>\n",
       "      <th>Annual Income</th>\n",
       "      <th>Tax Liens</th>\n",
       "      <th>Number of Open Accounts</th>\n",
       "      <th>Years of Credit History</th>\n",
       "      <th>Maximum Open Credit</th>\n",
       "      <th>Number of Credit Problems</th>\n",
       "      <th>Bankruptcies</th>\n",
       "      <th>Current Loan Amount</th>\n",
       "      <th>Current Credit Balance</th>\n",
       "      <th>Monthly Debt</th>\n",
       "      <th>Credit Score</th>\n",
       "      <th>Months since last delinquent</th>\n",
       "      <th>Home Ownership</th>\n",
       "      <th>Years in current job</th>\n",
       "      <th>Purpose</th>\n",
       "      <th>Term</th>\n",
       "    </tr>\n",
       "  </thead>\n",
       "  <tbody>\n",
       "    <tr>\n",
       "      <th>0</th>\n",
       "      <td>482087.0</td>\n",
       "      <td>0.0</td>\n",
       "      <td>11.0</td>\n",
       "      <td>26.3</td>\n",
       "      <td>685960.0</td>\n",
       "      <td>1.0</td>\n",
       "      <td>1.0</td>\n",
       "      <td>99999999.0</td>\n",
       "      <td>47386.0</td>\n",
       "      <td>7914.0</td>\n",
       "      <td>749.0</td>\n",
       "      <td>34.6926</td>\n",
       "      <td>Own Home</td>\n",
       "      <td>10+ years</td>\n",
       "      <td>debt consolidation</td>\n",
       "      <td>Short Term</td>\n",
       "    </tr>\n",
       "    <tr>\n",
       "      <th>1</th>\n",
       "      <td>1025487.0</td>\n",
       "      <td>0.0</td>\n",
       "      <td>15.0</td>\n",
       "      <td>15.3</td>\n",
       "      <td>1181730.0</td>\n",
       "      <td>0.0</td>\n",
       "      <td>0.0</td>\n",
       "      <td>264968.0</td>\n",
       "      <td>394972.0</td>\n",
       "      <td>18373.0</td>\n",
       "      <td>737.0</td>\n",
       "      <td>34.6926</td>\n",
       "      <td>Own Home</td>\n",
       "      <td>10+ years</td>\n",
       "      <td>debt consolidation</td>\n",
       "      <td>Long Term</td>\n",
       "    </tr>\n",
       "  </tbody>\n",
       "</table>\n",
       "</div>"
      ],
      "text/plain": [
       "   Annual Income  Tax Liens  Number of Open Accounts  Years of Credit History  \\\n",
       "0       482087.0        0.0                     11.0                     26.3   \n",
       "1      1025487.0        0.0                     15.0                     15.3   \n",
       "\n",
       "   Maximum Open Credit  Number of Credit Problems  Bankruptcies  \\\n",
       "0             685960.0                        1.0           1.0   \n",
       "1            1181730.0                        0.0           0.0   \n",
       "\n",
       "   Current Loan Amount  Current Credit Balance  Monthly Debt  Credit Score  \\\n",
       "0           99999999.0                 47386.0        7914.0         749.0   \n",
       "1             264968.0                394972.0       18373.0         737.0   \n",
       "\n",
       "   Months since last delinquent Home Ownership Years in current job  \\\n",
       "0                       34.6926       Own Home            10+ years   \n",
       "1                       34.6926       Own Home            10+ years   \n",
       "\n",
       "              Purpose        Term  \n",
       "0  debt consolidation  Short Term  \n",
       "1  debt consolidation   Long Term  "
      ]
     },
     "execution_count": 803,
     "metadata": {},
     "output_type": "execute_result"
    }
   ],
   "source": [
    "df_train = processing_omissions(df_train_base, CAT_FEATURE_NAMES, NUM_FEATURE_NAMES)\n",
    "df_train.head(2)"
   ]
  },
  {
   "cell_type": "code",
   "execution_count": 804,
   "id": "c4c98f6a",
   "metadata": {},
   "outputs": [
    {
     "name": "stdout",
     "output_type": "stream",
     "text": [
      "<class 'pandas.core.frame.DataFrame'>\n",
      "RangeIndex: 7500 entries, 0 to 7499\n",
      "Data columns (total 16 columns):\n",
      " #   Column                        Non-Null Count  Dtype   \n",
      "---  ------                        --------------  -----   \n",
      " 0   Annual Income                 7500 non-null   float64 \n",
      " 1   Tax Liens                     7500 non-null   float64 \n",
      " 2   Number of Open Accounts       7500 non-null   float64 \n",
      " 3   Years of Credit History       7500 non-null   float64 \n",
      " 4   Maximum Open Credit           7500 non-null   float64 \n",
      " 5   Number of Credit Problems     7500 non-null   float64 \n",
      " 6   Bankruptcies                  7500 non-null   float64 \n",
      " 7   Current Loan Amount           7500 non-null   float64 \n",
      " 8   Current Credit Balance        7500 non-null   float64 \n",
      " 9   Monthly Debt                  7500 non-null   float64 \n",
      " 10  Credit Score                  7500 non-null   float64 \n",
      " 11  Months since last delinquent  7500 non-null   float64 \n",
      " 12  Home Ownership                7500 non-null   category\n",
      " 13  Years in current job          7500 non-null   category\n",
      " 14  Purpose                       7500 non-null   category\n",
      " 15  Term                          7500 non-null   category\n",
      "dtypes: category(4), float64(12)\n",
      "memory usage: 733.9 KB\n"
     ]
    }
   ],
   "source": [
    "df_train = convert_category(df_train, CAT_FEATURE_NAMES)\n",
    "df_train.info()"
   ]
  },
  {
   "cell_type": "code",
   "execution_count": 805,
   "id": "b0c32765",
   "metadata": {},
   "outputs": [
    {
     "data": {
      "text/html": [
       "<div>\n",
       "<style scoped>\n",
       "    .dataframe tbody tr th:only-of-type {\n",
       "        vertical-align: middle;\n",
       "    }\n",
       "\n",
       "    .dataframe tbody tr th {\n",
       "        vertical-align: top;\n",
       "    }\n",
       "\n",
       "    .dataframe thead th {\n",
       "        text-align: right;\n",
       "    }\n",
       "</style>\n",
       "<table border=\"1\" class=\"dataframe\">\n",
       "  <thead>\n",
       "    <tr style=\"text-align: right;\">\n",
       "      <th></th>\n",
       "      <th>Annual Income</th>\n",
       "      <th>Tax Liens</th>\n",
       "      <th>Number of Open Accounts</th>\n",
       "      <th>Years of Credit History</th>\n",
       "      <th>Maximum Open Credit</th>\n",
       "      <th>Number of Credit Problems</th>\n",
       "      <th>Bankruptcies</th>\n",
       "      <th>Current Loan Amount</th>\n",
       "      <th>Current Credit Balance</th>\n",
       "      <th>Monthly Debt</th>\n",
       "      <th>Credit Score</th>\n",
       "      <th>Months since last delinquent</th>\n",
       "      <th>Home Ownership</th>\n",
       "      <th>Years in current job</th>\n",
       "      <th>Purpose</th>\n",
       "      <th>Term</th>\n",
       "    </tr>\n",
       "  </thead>\n",
       "  <tbody>\n",
       "    <tr>\n",
       "      <th>0</th>\n",
       "      <td>-1.175263</td>\n",
       "      <td>-0.110953</td>\n",
       "      <td>-0.026674</td>\n",
       "      <td>1.133645</td>\n",
       "      <td>-0.016174</td>\n",
       "      <td>1.664779</td>\n",
       "      <td>2.545372</td>\n",
       "      <td>2.76052</td>\n",
       "      <td>-0.762772</td>\n",
       "      <td>-0.872085</td>\n",
       "      <td>-0.281552</td>\n",
       "      <td>-4.852876e-16</td>\n",
       "      <td>Own Home</td>\n",
       "      <td>10+ years</td>\n",
       "      <td>debt consolidation</td>\n",
       "      <td>Short Term</td>\n",
       "    </tr>\n",
       "    <tr>\n",
       "      <th>1</th>\n",
       "      <td>-0.453071</td>\n",
       "      <td>-0.110953</td>\n",
       "      <td>0.788223</td>\n",
       "      <td>-0.428528</td>\n",
       "      <td>0.014763</td>\n",
       "      <td>-0.340979</td>\n",
       "      <td>-0.337765</td>\n",
       "      <td>-0.36362</td>\n",
       "      <td>0.330781</td>\n",
       "      <td>0.004909</td>\n",
       "      <td>-0.289955</td>\n",
       "      <td>-4.852876e-16</td>\n",
       "      <td>Own Home</td>\n",
       "      <td>10+ years</td>\n",
       "      <td>debt consolidation</td>\n",
       "      <td>Long Term</td>\n",
       "    </tr>\n",
       "  </tbody>\n",
       "</table>\n",
       "</div>"
      ],
      "text/plain": [
       "   Annual Income  Tax Liens  Number of Open Accounts  Years of Credit History  \\\n",
       "0      -1.175263  -0.110953                -0.026674                 1.133645   \n",
       "1      -0.453071  -0.110953                 0.788223                -0.428528   \n",
       "\n",
       "   Maximum Open Credit  Number of Credit Problems  Bankruptcies  \\\n",
       "0            -0.016174                   1.664779      2.545372   \n",
       "1             0.014763                  -0.340979     -0.337765   \n",
       "\n",
       "   Current Loan Amount  Current Credit Balance  Monthly Debt  Credit Score  \\\n",
       "0              2.76052               -0.762772     -0.872085     -0.281552   \n",
       "1             -0.36362                0.330781      0.004909     -0.289955   \n",
       "\n",
       "   Months since last delinquent Home Ownership Years in current job  \\\n",
       "0                 -4.852876e-16       Own Home            10+ years   \n",
       "1                 -4.852876e-16       Own Home            10+ years   \n",
       "\n",
       "              Purpose        Term  \n",
       "0  debt consolidation  Short Term  \n",
       "1  debt consolidation   Long Term  "
      ]
     },
     "execution_count": 805,
     "metadata": {},
     "output_type": "execute_result"
    }
   ],
   "source": [
    "df_train = scaling(df_train, NUM_FEATURE_NAMES)\n",
    "df_train.head(2)"
   ]
  },
  {
   "cell_type": "code",
   "execution_count": 806,
   "id": "99d4e300",
   "metadata": {},
   "outputs": [],
   "source": [
    "X = df_train[NUM_FEATURE_NAMES + CAT_FEATURE_NAMES]\n",
    "y = df_train_base[TARGET_NAME]\n",
    "\n",
    "X_train, X_test, y_train, y_test = train_test_split(X, y, shuffle=True, test_size=0.30, random_state=21)"
   ]
  },
  {
   "cell_type": "code",
   "execution_count": 807,
   "id": "819e2fa6",
   "metadata": {},
   "outputs": [
    {
     "data": {
      "text/plain": [
       "0    3771\n",
       "1    2958\n",
       "Name: Credit Default, dtype: int64"
      ]
     },
     "execution_count": 807,
     "metadata": {},
     "output_type": "execute_result"
    }
   ],
   "source": [
    "df_for_balancing = pd.concat([X_train, y_train], axis=1)\n",
    "df_balanced = balance_df_by_target(df_for_balancing, TARGET_NAME)\n",
    "    \n",
    "df_balanced[TARGET_NAME].value_counts()"
   ]
  },
  {
   "cell_type": "code",
   "execution_count": 808,
   "id": "548cea18",
   "metadata": {},
   "outputs": [],
   "source": [
    "X_train = df_balanced.drop(columns=TARGET_NAME)\n",
    "y_train = df_balanced[TARGET_NAME]"
   ]
  },
  {
   "cell_type": "code",
   "execution_count": 809,
   "id": "cabf0816",
   "metadata": {},
   "outputs": [],
   "source": [
    "train = pd.concat([X_train, y_train], axis=1)\n",
    "test = pd.concat([X_test, y_test], axis=1)"
   ]
  },
  {
   "cell_type": "code",
   "execution_count": 810,
   "id": "c911792d",
   "metadata": {},
   "outputs": [
    {
     "name": "stdout",
     "output_type": "stream",
     "text": [
      "TRAIN\n",
      "\n",
      "              precision    recall  f1-score   support\n",
      "\n",
      "           0       0.87      0.94      0.90      3771\n",
      "           1       0.91      0.82      0.87      2958\n",
      "\n",
      "    accuracy                           0.89      6729\n",
      "   macro avg       0.89      0.88      0.89      6729\n",
      "weighted avg       0.89      0.89      0.89      6729\n",
      "\n",
      "TEST\n",
      "\n",
      "              precision    recall  f1-score   support\n",
      "\n",
      "           0       0.81      0.85      0.83      1616\n",
      "           1       0.56      0.49      0.52       634\n",
      "\n",
      "    accuracy                           0.75      2250\n",
      "   macro avg       0.68      0.67      0.67      2250\n",
      "weighted avg       0.74      0.75      0.74      2250\n",
      "\n",
      "CONFUSION MATRIX\n",
      "\n",
      "col_0              0    1\n",
      "Credit Default           \n",
      "0               1373  243\n",
      "1                325  309\n"
     ]
    }
   ],
   "source": [
    "model_catb = catb.CatBoostClassifier(silent=True, random_state=21, cat_features=CAT_FEATURE_NAMES)\n",
    "model_catb.fit(X_train, y_train)\n",
    "\n",
    "y_train_pred = model_catb.predict(X_train)\n",
    "y_test_pred = model_catb.predict(X_test)\n",
    "\n",
    "get_classification_report(y_train, y_train_pred, y_test, y_test_pred)"
   ]
  },
  {
   "cell_type": "code",
   "execution_count": 811,
   "id": "98d2a62a",
   "metadata": {},
   "outputs": [],
   "source": [
    "df_valid = processing_omissions(df_valid, CAT_FEATURE_NAMES, NUM_FEATURE_NAMES)\n",
    "df_valid = convert_category(df_valid, CAT_FEATURE_NAMES)\n",
    "df_valid = scaling(df_valid, NUM_FEATURE_NAMES)\n",
    "X_valid = df_valid[NUM_FEATURE_NAMES + CAT_FEATURE_NAMES]"
   ]
  },
  {
   "cell_type": "code",
   "execution_count": 812,
   "id": "99848a37",
   "metadata": {},
   "outputs": [
    {
     "data": {
      "text/plain": [
       "array([0, 1, 1, ..., 0, 0, 1])"
      ]
     },
     "execution_count": 812,
     "metadata": {},
     "output_type": "execute_result"
    }
   ],
   "source": [
    "y_valid_pred = model_catb.predict(X_valid)\n",
    "y_valid_pred"
   ]
  },
  {
   "cell_type": "code",
   "execution_count": 816,
   "id": "97d7fbc2",
   "metadata": {},
   "outputs": [],
   "source": [
    "np.savetxt('Credit Default', y_valid_pred)"
   ]
  },
  {
   "cell_type": "code",
   "execution_count": null,
   "id": "dae2039c",
   "metadata": {},
   "outputs": [],
   "source": []
  }
 ],
 "metadata": {
  "kernelspec": {
   "display_name": "Python 3 (ipykernel)",
   "language": "python",
   "name": "python3"
  },
  "language_info": {
   "codemirror_mode": {
    "name": "ipython",
    "version": 3
   },
   "file_extension": ".py",
   "mimetype": "text/x-python",
   "name": "python",
   "nbconvert_exporter": "python",
   "pygments_lexer": "ipython3",
   "version": "3.9.7"
  }
 },
 "nbformat": 4,
 "nbformat_minor": 5
}
